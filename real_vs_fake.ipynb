{
 "cells": [
  {
   "cell_type": "code",
   "execution_count": 1,
   "metadata": {},
   "outputs": [],
   "source": [
    "import h5py\n",
    "import numpy as np\n",
    "from sklearn.model_selection import train_test_split"
   ]
  },
  {
   "cell_type": "code",
   "execution_count": 2,
   "metadata": {},
   "outputs": [
    {
     "name": "stdout",
     "output_type": "stream",
     "text": [
      "Real images shape: (1000, 128, 128, 1)\n",
      "Real labels shape: (1000, 14)\n",
      "Fake images shape: (1000, 128, 128, 1)\n",
      "Fake labels shape: (1000, 14)\n"
     ]
    }
   ],
   "source": [
    "import pandas as pd\n",
    "\n",
    "labels = ['Atelectasis', 'Cardiomegaly', 'Consolidation', 'Edema', 'Effusion', 'Emphysema',\n",
    "          'Fibrosis', 'Hernia', 'Infiltration', 'Mass', 'Nodule', 'Pleural_Thickening',\n",
    "          'Pneumonia', 'Pneumothorax']\n",
    "\n",
    "# Load real images and labels from HDF5 file\n",
    "real_images_h5_path = 'chest_xray.h5'\n",
    "with h5py.File(real_images_h5_path, 'r') as h5_data:\n",
    "    real_images = h5_data['images'][:1000]  # Load only the first 1000 images\n",
    "    real_labels = np.array([h5_data[label][:1000] for label in labels])\n",
    "\n",
    "# Load fake images and labels from HDF5 file\n",
    "fake_images_h5_path = 'chest_xray_gen1000.h5'\n",
    "with h5py.File(fake_images_h5_path, 'r') as h5_data:\n",
    "    fake_images = h5_data['images'][:1000]  # Load only the first 1000 images\n",
    "    fake_labels = np.array([h5_data[label][:1000] for label in labels])\n",
    "\n",
    "# Convert real and fake labels to DataFrames\n",
    "\n",
    "real_labels_df = pd.DataFrame(real_labels.T, columns=labels)  # Transpose to align with images\n",
    "fake_labels_df = pd.DataFrame(fake_labels.T, columns=labels)\n",
    "\n",
    "# Display shapes of real and fake data\n",
    "print(\"Real images shape:\", real_images.shape)\n",
    "print(\"Real labels shape:\", real_labels_df.shape)\n",
    "print(\"Fake images shape:\", fake_images.shape)\n",
    "print(\"Fake labels shape:\", fake_labels_df.shape)\n"
   ]
  },
  {
   "cell_type": "code",
   "execution_count": 3,
   "metadata": {},
   "outputs": [],
   "source": [
    "# Split real data into training and testing sets\n",
    "real_labels_np = real_labels_df.to_numpy()\n",
    "x_real_train, x_real_test, y_real_train, y_real_test = train_test_split(real_images, real_labels_np, test_size=0.2, random_state=42)\n",
    "fake_labels_np = fake_labels_df.to_numpy()\n",
    "x_fake_train, x_fake_test, y_fake_train, y_fake_test = train_test_split(fake_images, fake_labels_np, test_size=0.2, random_state=42)"
   ]
  },
  {
   "cell_type": "code",
   "execution_count": 4,
   "metadata": {},
   "outputs": [
    {
     "name": "stdout",
     "output_type": "stream",
     "text": [
      "Model: \"sequential\"\n",
      "_________________________________________________________________\n",
      " Layer (type)                Output Shape              Param #   \n",
      "=================================================================\n",
      " conv2d (Conv2D)             (None, 126, 126, 32)      320       \n",
      "                                                                 \n",
      " batch_normalization (Batch  (None, 126, 126, 32)      128       \n",
      " Normalization)                                                  \n",
      "                                                                 \n",
      " conv2d_1 (Conv2D)           (None, 124, 124, 32)      9248      \n",
      "                                                                 \n",
      " batch_normalization_1 (Bat  (None, 124, 124, 32)      128       \n",
      " chNormalization)                                                \n",
      "                                                                 \n",
      " max_pooling2d (MaxPooling2  (None, 62, 62, 32)        0         \n",
      " D)                                                              \n",
      "                                                                 \n",
      " dropout (Dropout)           (None, 62, 62, 32)        0         \n",
      "                                                                 \n",
      " conv2d_2 (Conv2D)           (None, 60, 60, 64)        18496     \n",
      "                                                                 \n",
      " batch_normalization_2 (Bat  (None, 60, 60, 64)        256       \n",
      " chNormalization)                                                \n",
      "                                                                 \n",
      " conv2d_3 (Conv2D)           (None, 58, 58, 64)        36928     \n",
      "                                                                 \n",
      " batch_normalization_3 (Bat  (None, 58, 58, 64)        256       \n",
      " chNormalization)                                                \n",
      "                                                                 \n",
      " max_pooling2d_1 (MaxPoolin  (None, 29, 29, 64)        0         \n",
      " g2D)                                                            \n",
      "                                                                 \n",
      " dropout_1 (Dropout)         (None, 29, 29, 64)        0         \n",
      "                                                                 \n",
      " conv2d_4 (Conv2D)           (None, 27, 27, 128)       73856     \n",
      "                                                                 \n",
      " batch_normalization_4 (Bat  (None, 27, 27, 128)       512       \n",
      " chNormalization)                                                \n",
      "                                                                 \n",
      " conv2d_5 (Conv2D)           (None, 25, 25, 128)       147584    \n",
      "                                                                 \n",
      " batch_normalization_5 (Bat  (None, 25, 25, 128)       512       \n",
      " chNormalization)                                                \n",
      "                                                                 \n",
      " max_pooling2d_2 (MaxPoolin  (None, 12, 12, 128)       0         \n",
      " g2D)                                                            \n",
      "                                                                 \n",
      " dropout_2 (Dropout)         (None, 12, 12, 128)       0         \n",
      "                                                                 \n",
      " flatten (Flatten)           (None, 18432)             0         \n",
      "                                                                 \n",
      " dense (Dense)               (None, 512)               9437696   \n",
      "                                                                 \n",
      " batch_normalization_6 (Bat  (None, 512)               2048      \n",
      " chNormalization)                                                \n",
      "                                                                 \n",
      " dropout_3 (Dropout)         (None, 512)               0         \n",
      "                                                                 \n",
      " dense_1 (Dense)             (None, 14)                7182      \n",
      "                                                                 \n",
      "=================================================================\n",
      "Total params: 9735150 (37.14 MB)\n",
      "Trainable params: 9733230 (37.13 MB)\n",
      "Non-trainable params: 1920 (7.50 KB)\n",
      "_________________________________________________________________\n"
     ]
    }
   ],
   "source": [
    "from keras.models import Sequential\n",
    "from keras.layers import Conv2D, MaxPooling2D, Flatten, Dense, Dropout, BatchNormalization\n",
    "from keras.optimizers import Adam\n",
    "\n",
    "# Define the model\n",
    "custom_model = Sequential([\n",
    "    Conv2D(32, (3, 3), activation='relu', input_shape=(128, 128, 1)),\n",
    "    BatchNormalization(),\n",
    "    Conv2D(32, (3, 3), activation='relu'),\n",
    "    BatchNormalization(),\n",
    "    MaxPooling2D((2, 2)),\n",
    "    Dropout(0.25),\n",
    "    \n",
    "    Conv2D(64, (3, 3), activation='relu'),\n",
    "    BatchNormalization(),\n",
    "    Conv2D(64, (3, 3), activation='relu'),\n",
    "    BatchNormalization(),\n",
    "    MaxPooling2D((2, 2)),\n",
    "    Dropout(0.25),\n",
    "\n",
    "    Conv2D(128, (3, 3), activation='relu'),\n",
    "    BatchNormalization(),\n",
    "    Conv2D(128, (3, 3), activation='relu'),\n",
    "    BatchNormalization(),\n",
    "    MaxPooling2D((2, 2)),\n",
    "    Dropout(0.25),\n",
    "\n",
    "    Flatten(),\n",
    "    Dense(512, activation='relu'),\n",
    "    BatchNormalization(),\n",
    "    Dropout(0.5),\n",
    "    Dense(14, activation='sigmoid')  \n",
    "])\n",
    "\n",
    "# Compile the model\n",
    "optimizer = Adam(learning_rate=0.001)\n",
    "custom_model.compile(optimizer=optimizer,\n",
    "                     loss='binary_crossentropy',\n",
    "                     metrics=['accuracy', 'mae'])\n",
    "\n",
    "# Print the model summary\n",
    "custom_model.summary()\n"
   ]
  },
  {
   "cell_type": "code",
   "execution_count": 5,
   "metadata": {},
   "outputs": [
    {
     "name": "stdout",
     "output_type": "stream",
     "text": [
      "Epoch 1/10\n",
      "25/25 [==============================] - 43s 1s/step - loss: 0.8704 - accuracy: 0.0938 - mae: 0.4809 - val_loss: 4.8035 - val_accuracy: 0.0000e+00 - val_mae: 0.6411\n",
      "Epoch 2/10\n",
      "25/25 [==============================] - 38s 2s/step - loss: 0.7019 - accuracy: 0.1275 - mae: 0.4394 - val_loss: 2.4718 - val_accuracy: 0.0100 - val_mae: 0.6793\n",
      "Epoch 3/10\n",
      "25/25 [==============================] - 39s 2s/step - loss: 0.5731 - accuracy: 0.1513 - mae: 0.3799 - val_loss: 0.8792 - val_accuracy: 0.0950 - val_mae: 0.4955\n",
      "Epoch 4/10\n",
      "25/25 [==============================] - 36s 1s/step - loss: 0.4598 - accuracy: 0.1950 - mae: 0.3059 - val_loss: 0.6479 - val_accuracy: 0.3100 - val_mae: 0.3662\n",
      "Epoch 5/10\n",
      "25/25 [==============================] - 36s 1s/step - loss: 0.3846 - accuracy: 0.2013 - mae: 0.2456 - val_loss: 0.6218 - val_accuracy: 0.1800 - val_mae: 0.3696\n",
      "Epoch 6/10\n",
      "25/25 [==============================] - 36s 1s/step - loss: 0.3456 - accuracy: 0.2387 - mae: 0.2089 - val_loss: 0.3511 - val_accuracy: 0.2300 - val_mae: 0.2228\n",
      "Epoch 7/10\n",
      "25/25 [==============================] - 33s 1s/step - loss: 0.3256 - accuracy: 0.2675 - mae: 0.1892 - val_loss: 0.3510 - val_accuracy: 0.2750 - val_mae: 0.2151\n",
      "Epoch 8/10\n",
      "25/25 [==============================] - 33s 1s/step - loss: 0.3140 - accuracy: 0.2788 - mae: 0.1819 - val_loss: 0.3634 - val_accuracy: 0.1950 - val_mae: 0.2029\n",
      "Epoch 9/10\n",
      "25/25 [==============================] - 32s 1s/step - loss: 0.2980 - accuracy: 0.2975 - mae: 0.1762 - val_loss: 0.3529 - val_accuracy: 0.2100 - val_mae: 0.1862\n",
      "Epoch 10/10\n",
      "25/25 [==============================] - 34s 1s/step - loss: 0.2900 - accuracy: 0.3000 - mae: 0.1707 - val_loss: 0.3497 - val_accuracy: 0.2950 - val_mae: 0.1923\n"
     ]
    },
    {
     "data": {
      "text/plain": [
       "<keras.src.callbacks.History at 0x185d09e9850>"
      ]
     },
     "execution_count": 5,
     "metadata": {},
     "output_type": "execute_result"
    }
   ],
   "source": [
    "custom_model.fit(x_real_train, y_real_train, validation_data=(x_real_test, y_real_test), epochs=10, batch_size=32)"
   ]
  },
  {
   "cell_type": "code",
   "execution_count": 6,
   "metadata": {},
   "outputs": [
    {
     "name": "stdout",
     "output_type": "stream",
     "text": [
      "Real Data - Test Loss: 0.34973934292793274\n",
      "Real Data - Test Accuracy: 0.29499998688697815\n"
     ]
    }
   ],
   "source": [
    "custom_model.save(filepath='classification_model/xray_model_1000real.keras')\n",
    "real_scores = custom_model.evaluate(x_real_test, y_real_test, verbose=0)\n",
    "print(\"Real Data - Test Loss:\", real_scores[0])\n",
    "print(\"Real Data - Test Accuracy:\", real_scores[1])"
   ]
  },
  {
   "cell_type": "code",
   "execution_count": 7,
   "metadata": {},
   "outputs": [
    {
     "name": "stdout",
     "output_type": "stream",
     "text": [
      "Epoch 1/10\n",
      "25/25 [==============================] - 33s 1s/step - loss: 0.3956 - accuracy: 0.2125 - mae: 0.1959 - val_loss: 0.4728 - val_accuracy: 0.1800 - val_mae: 0.1538\n",
      "Epoch 2/10\n",
      "25/25 [==============================] - 34s 1s/step - loss: 0.3482 - accuracy: 0.2262 - mae: 0.1874 - val_loss: 0.3785 - val_accuracy: 0.1850 - val_mae: 0.2145\n",
      "Epoch 3/10\n",
      "25/25 [==============================] - 35s 1s/step - loss: 0.3263 - accuracy: 0.2587 - mae: 0.1863 - val_loss: 0.3620 - val_accuracy: 0.1800 - val_mae: 0.2102\n",
      "Epoch 4/10\n",
      "25/25 [==============================] - 35s 1s/step - loss: 0.3117 - accuracy: 0.2925 - mae: 0.1804 - val_loss: 0.3593 - val_accuracy: 0.2100 - val_mae: 0.1660\n",
      "Epoch 5/10\n",
      "25/25 [==============================] - 33s 1s/step - loss: 0.2876 - accuracy: 0.3250 - mae: 0.1750 - val_loss: 0.3457 - val_accuracy: 0.1900 - val_mae: 0.1767\n",
      "Epoch 6/10\n",
      "25/25 [==============================] - 35s 1s/step - loss: 0.2720 - accuracy: 0.3187 - mae: 0.1665 - val_loss: 0.3617 - val_accuracy: 0.2350 - val_mae: 0.1798\n",
      "Epoch 7/10\n",
      "25/25 [==============================] - 35s 1s/step - loss: 0.2524 - accuracy: 0.3713 - mae: 0.1594 - val_loss: 0.3695 - val_accuracy: 0.1750 - val_mae: 0.1714\n",
      "Epoch 8/10\n",
      "25/25 [==============================] - 34s 1s/step - loss: 0.2363 - accuracy: 0.3900 - mae: 0.1517 - val_loss: 0.3709 - val_accuracy: 0.2350 - val_mae: 0.1703\n",
      "Epoch 9/10\n",
      "25/25 [==============================] - 34s 1s/step - loss: 0.2513 - accuracy: 0.3575 - mae: 0.1535 - val_loss: 0.4958 - val_accuracy: 0.2500 - val_mae: 0.1606\n",
      "Epoch 10/10\n",
      "25/25 [==============================] - 35s 1s/step - loss: 0.2652 - accuracy: 0.3400 - mae: 0.1578 - val_loss: 0.8260 - val_accuracy: 0.2250 - val_mae: 0.1458\n"
     ]
    },
    {
     "data": {
      "text/plain": [
       "<keras.src.callbacks.History at 0x185e1bf81d0>"
      ]
     },
     "execution_count": 7,
     "metadata": {},
     "output_type": "execute_result"
    }
   ],
   "source": [
    "custom_model.fit(x_fake_train, y_fake_train, validation_data=(x_fake_test, y_fake_test), epochs=10, batch_size=32)"
   ]
  },
  {
   "cell_type": "code",
   "execution_count": 8,
   "metadata": {},
   "outputs": [
    {
     "name": "stdout",
     "output_type": "stream",
     "text": [
      "Fake Data - Test Loss: 0.825960636138916\n",
      "Fake Data - Test Accuracy: 0.22499999403953552\n"
     ]
    }
   ],
   "source": [
    "# Evaluate the CNN model on fake data\n",
    "custom_model.save(filepath='classification_model/xray_model_1000fake.keras')\n",
    "fake_scores = custom_model.evaluate(x_fake_test, y_fake_test, verbose=0)\n",
    "print(\"Fake Data - Test Loss:\", fake_scores[0])\n",
    "print(\"Fake Data - Test Accuracy:\", fake_scores[1])"
   ]
  }
 ],
 "metadata": {
  "kernelspec": {
   "display_name": "Python 3",
   "language": "python",
   "name": "python3"
  },
  "language_info": {
   "codemirror_mode": {
    "name": "ipython",
    "version": 3
   },
   "file_extension": ".py",
   "mimetype": "text/x-python",
   "name": "python",
   "nbconvert_exporter": "python",
   "pygments_lexer": "ipython3",
   "version": "3.11.8"
  }
 },
 "nbformat": 4,
 "nbformat_minor": 2
}
